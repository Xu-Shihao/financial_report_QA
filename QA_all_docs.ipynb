{
 "cells": [
  {
   "cell_type": "code",
   "execution_count": 1,
   "metadata": {},
   "outputs": [
    {
     "name": "stderr",
     "output_type": "stream",
     "text": [
      "100%|██████████| 15/15 [01:27<00:00,  5.82s/it]\n"
     ]
    }
   ],
   "source": [
    "from dotenv import load_dotenv\n",
    "import os\n",
    "import streamlit as st\n",
    "from PyPDF2 import PdfReader\n",
    "from langchain.text_splitter import CharacterTextSplitter\n",
    "from langchain.vectorstores import FAISS\n",
    "from langchain.chains.question_answering import load_qa_chain\n",
    "from langchain.llms import OpenAI\n",
    "from langchain.callbacks import get_openai_callback\n",
    "import glob\n",
    "from tqdm import tqdm\n",
    "import pickle\n",
    "\n",
    "for pdf in tqdm(glob.glob(\"./docs/*.pdf\")):\n",
    "    pdf_reader = PdfReader(pdf)\n",
    "    text = \"\"\n",
    "    for page in pdf_reader.pages:\n",
    "        text += page.extract_text()\n",
    "           "
   ]
  },
  {
   "cell_type": "code",
   "execution_count": 5,
   "metadata": {},
   "outputs": [
    {
     "name": "stderr",
     "output_type": "stream",
     "text": [
      "Created a chunk of size 2512, which is longer than the specified 1000\n",
      "Created a chunk of size 1280, which is longer than the specified 1000\n",
      "Created a chunk of size 1591, which is longer than the specified 1000\n",
      "Created a chunk of size 1031, which is longer than the specified 1000\n",
      "Created a chunk of size 1256, which is longer than the specified 1000\n",
      "Created a chunk of size 1077, which is longer than the specified 1000\n",
      "g:\\Software\\Anaconda\\envs\\qa-bot\\lib\\site-packages\\langchain\\chains\\llm.py:367: UserWarning: The apply_and_parse method is deprecated, instead pass an output parser directly to LLMChain.\n",
      "  warnings.warn(\n"
     ]
    },
    {
     "name": "stdout",
     "output_type": "stream",
     "text": [
      "Query: What was the global comparable sales growth for McDonald's in 2023?\n",
      "Res:  This document does not answer the question\n"
     ]
    }
   ],
   "source": [
    "from langchain.embeddings.openai import OpenAIEmbeddings\n",
    "from langchain_community.embeddings import HuggingFaceEmbeddings\n",
    "from langchain_community.embeddings import GPT4AllEmbeddings\n",
    "\n",
    "os.environ[\"OPENAI_API_KEY\"] = # ENTER_HERE\n",
    "\n",
    "text_splitter = CharacterTextSplitter(\n",
    "    separator=\"\\n\",\n",
    "    chunk_size=1000,\n",
    "    chunk_overlap=200,\n",
    "    length_function=len\n",
    ")  \n",
    "\n",
    "chunks = text_splitter.split_text(text)\n",
    "\n",
    "# embeddings = OpenAIEmbeddings(model=\"text-embedding-ada-002\")\n",
    "embeddings = GPT4AllEmbeddings()\n",
    "index_filename = \"faiss_index.gpt4all\"\n",
    "if not os.path.exists(index_filename):\n",
    "    knowledge_base = FAISS.from_texts(chunks, embeddings)\n",
    "    knowledge_base.save_local(index_filename)\n",
    "else:\n",
    "    knowledge_base = FAISS.load_local(index_filename, embeddings, allow_dangerous_deserialization=True)\n",
    "\n",
    "query = \"What was the global comparable sales growth for McDonald's in 2023?\"\n",
    "if query:\n",
    "    docs = knowledge_base.similarity_search(query)\n",
    "\n",
    "    llm = OpenAI()\n",
    "    chain = load_qa_chain(llm, chain_type=\"stuff\")\n",
    "    response = chain.run(input_documents=docs, question=query)\n",
    "\n",
    "    print(f\"Query: {query}\")\n",
    "    print(f\"Res: {response}\")"
   ]
  },
  {
   "cell_type": "code",
   "execution_count": null,
   "metadata": {},
   "outputs": [],
   "source": [
    "from dotenv import load_dotenv\n",
    "import os\n",
    "import streamlit as st\n",
    "from PyPDF2 import PdfReader\n",
    "from langchain.text_splitter import CharacterTextSplitter\n",
    "from langchain.vectorstores import FAISS\n",
    "from langchain.chains.question_answering import load_qa_chain\n",
    "from langchain.llms import OpenAI\n",
    "from langchain.callbacks import get_openai_callback\n",
    "import glob\n",
    "from tqdm import tqdm\n",
    "import pickle\n",
    "\n",
    "for pdf in tqdm(glob.glob(\"./docs/*.pdf\")):\n",
    "    pdf_reader = PdfReader(pdf)\n",
    "    text = \"\"\n",
    "    for page in pdf_reader.pages:\n",
    "        text += page.extract_text()\n",
    "\n",
    "from langchain.embeddings.openai import OpenAIEmbeddings\n",
    "from langchain_community.embeddings import HuggingFaceEmbeddings\n",
    "from langchain_community.embeddings import GPT4AllEmbeddings\n",
    "\n",
    "os.environ[\"OPENAI_API_KEY\"] = # ENTER_HERE\n",
    "\n",
    "text_splitter = CharacterTextSplitter(\n",
    "    separator=\"\\n\",\n",
    "    chunk_size=1000,\n",
    "    chunk_overlap=200,\n",
    "    length_function=len\n",
    ")  \n",
    "\n",
    "chunks = text_splitter.split_text(text)\n",
    "\n",
    "# embeddings = OpenAIEmbeddings(model=\"text-embedding-ada-002\")\n",
    "embeddings = GPT4AllEmbeddings()\n",
    "index_filename = \"faiss_index.gpt4all\"\n",
    "if not os.path.exists(index_filename):\n",
    "    knowledge_base = FAISS.from_texts(chunks, embeddings)\n",
    "    knowledge_base.save_local(index_filename)\n",
    "else:\n",
    "    knowledge_base = FAISS.load_local(index_filename, embeddings, allow_dangerous_deserialization=True)\n",
    "\n",
    "query = \"What was the global comparable sales growth for McDonald's in 2023?\"\n",
    "if query:\n",
    "    docs = knowledge_base.similarity_search(query)\n",
    "\n",
    "    llm = OpenAI()\n",
    "    chain = load_qa_chain(llm, chain_type=\"stuff\")\n",
    "    response = chain.run(input_documents=docs, question=query)\n",
    "\n",
    "    print(f\"Query: {query}\")\n",
    "    print(f\"Res: {response}\")"
   ]
  }
 ],
 "metadata": {
  "kernelspec": {
   "display_name": "badminton_court_booking",
   "language": "python",
   "name": "python3"
  },
  "language_info": {
   "codemirror_mode": {
    "name": "ipython",
    "version": 3
   },
   "file_extension": ".py",
   "mimetype": "text/x-python",
   "name": "python",
   "nbconvert_exporter": "python",
   "pygments_lexer": "ipython3",
   "version": "3.9.19"
  }
 },
 "nbformat": 4,
 "nbformat_minor": 2
}
